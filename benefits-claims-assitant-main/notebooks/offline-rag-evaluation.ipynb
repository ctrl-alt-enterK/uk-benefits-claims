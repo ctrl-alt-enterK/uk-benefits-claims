{
 "cells": [
  {
   "cell_type": "markdown",
   "id": "eb5e2227-4091-4d7a-8255-0b8d99136d14",
   "metadata": {},
   "source": [
    "# Ingestion "
   ]
  },
  {
   "cell_type": "markdown",
   "id": "364a07c5-3ae7-46b7-8849-186a611eb7e0",
   "metadata": {},
   "source": [
    "## Load Documents with ids"
   ]
  },
  {
   "cell_type": "code",
   "execution_count": 79,
   "id": "3f207375-6ffd-41fe-a10d-9f984a5e5425",
   "metadata": {},
   "outputs": [],
   "source": [
    "import json\n",
    "import pandas as pd\n",
    "\n",
    "from tqdm.auto import tqdm\n",
    "from openai import OpenAI\n",
    "from elasticsearch import Elasticsearch\n",
    "from sentence_transformers import SentenceTransformer"
   ]
  },
  {
   "cell_type": "code",
   "execution_count": 80,
   "id": "932c9d6e-f93a-4d6b-8588-f436485eb425",
   "metadata": {},
   "outputs": [],
   "source": [
    "with open('../data/document-with-ids.json', 'r') as file:\n",
    "    documents = json.load(file)"
   ]
  },
  {
   "cell_type": "code",
   "execution_count": 81,
   "id": "61916567-f40a-4dd8-8225-bdd9a14bee5d",
   "metadata": {},
   "outputs": [
    {
     "data": {
      "text/plain": [
       "{'category': 'Manage existing benefit',\n",
       " 'question': 'How do I update my benefit information?',\n",
       " 'answer': 'You can update your benefit information online through your account.',\n",
       " 'section': 'general claim benefits',\n",
       " 'id': '30eada08-5708-5c5c-9df8-0f7d5d4dc131'}"
      ]
     },
     "execution_count": 81,
     "metadata": {},
     "output_type": "execute_result"
    }
   ],
   "source": [
    "documents[0]"
   ]
  },
  {
   "cell_type": "markdown",
   "id": "d529f685-315f-41ec-a951-3ba0f5c737bd",
   "metadata": {},
   "source": [
    "## Load ground_truth data"
   ]
  },
  {
   "cell_type": "code",
   "execution_count": 82,
   "id": "c1063859-0f48-4835-8928-6c40090bed56",
   "metadata": {},
   "outputs": [],
   "source": [
    "df_ground_truth = pd.read_csv('../data/ground-truth-data.csv')\n",
    "ground_truth = df_ground_truth.to_dict(orient='records')"
   ]
  },
  {
   "cell_type": "code",
   "execution_count": 83,
   "id": "13b90e2e-92f3-4c0e-b37b-c87c6aa48050",
   "metadata": {},
   "outputs": [
    {
     "data": {
      "text/plain": [
       "{'question': 'Is it possible to appeal?',\n",
       " 'section': 'general claim benefits',\n",
       " 'document': '8d000ade-6c2b-571c-aa61-5d38eb463cf8'}"
      ]
     },
     "execution_count": 83,
     "metadata": {},
     "output_type": "execute_result"
    }
   ],
   "source": [
    "ground_truth[10]"
   ]
  },
  {
   "cell_type": "code",
   "execution_count": 84,
   "id": "2f702e75-10dc-4503-9df1-cf0fe9258f69",
   "metadata": {},
   "outputs": [
    {
     "name": "stderr",
     "output_type": "stream",
     "text": [
      "/home/codespace/.local/share/virtualenvs/benefits-claims-assitant-w_hr6DTK/lib/python3.12/site-packages/transformers/tokenization_utils_base.py:1601: FutureWarning: `clean_up_tokenization_spaces` was not set. It will be set to `True` by default. This behavior will be depracted in transformers v4.45, and will be then set to `False` by default. For more details check this issue: https://github.com/huggingface/transformers/issues/31884\n",
      "  warnings.warn(\n"
     ]
    }
   ],
   "source": [
    "model_name = 'multi-qa-MiniLM-L6-cos-v1'\n",
    "model = SentenceTransformer(model_name)"
   ]
  },
  {
   "cell_type": "markdown",
   "id": "9da78717-253f-4382-9643-f85778769546",
   "metadata": {},
   "source": [
    "## Indexing Elasticsearch with Data"
   ]
  },
  {
   "cell_type": "code",
   "execution_count": 95,
   "id": "0fa98895-6458-48a4-b9f4-2cd6e7d91a41",
   "metadata": {},
   "outputs": [
    {
     "data": {
      "text/plain": [
       "ObjectApiResponse({'acknowledged': True, 'shards_acknowledged': True, 'index': 'benefit-claims'})"
      ]
     },
     "execution_count": 95,
     "metadata": {},
     "output_type": "execute_result"
    }
   ],
   "source": [
    "es_client = Elasticsearch('http://localhost:9200') \n",
    "\n",
    "index_settings = {\n",
    "    \"settings\": {\n",
    "        \"number_of_shards\": 1,\n",
    "        \"number_of_replicas\": 0\n",
    "    },\n",
    "    \"mappings\": {\n",
    "        \"properties\": {\n",
    "            \"answer\": {\"type\": \"text\"},\n",
    "            \"category\": {\"type\": \"text\"},\n",
    "            \"question\": {\"type\": \"text\"},\n",
    "            \"section\": {\"type\": \"keyword\"},\n",
    "            \"id\": {\"type\": \"keyword\"},\n",
    "            \"question_answer_vector\": {\n",
    "                \"type\": \"dense_vector\",\n",
    "                \"dims\": 384,\n",
    "                \"index\": True,\n",
    "                \"similarity\": \"cosine\"\n",
    "            },\n",
    "        }\n",
    "    }\n",
    "}\n",
    "\n",
    "index_name = \"benefit-claims\"\n",
    "\n",
    "es_client.indices.delete(index=index_name, ignore_unavailable=True)\n",
    "es_client.indices.create(index=index_name, body=index_settings)"
   ]
  },
  {
   "cell_type": "code",
   "execution_count": 96,
   "id": "8ad9c37e-aba4-4250-9d29-560978727bf7",
   "metadata": {},
   "outputs": [
    {
     "name": "stderr",
     "output_type": "stream",
     "text": [
      "100%|███████████████████████████████████████████████████████████████████████████████████████████████████████| 425/425 [00:17<00:00, 24.96it/s]\n"
     ]
    }
   ],
   "source": [
    "for doc in tqdm(documents):\n",
    "    question = doc['question']\n",
    "    answer = doc['answer']\n",
    "    doc['question_answer_vector'] = model.encode(question + ' ' + answer)\n",
    "\n",
    "    es_client.index(index=index_name, document=doc)"
   ]
  },
  {
   "cell_type": "markdown",
   "id": "5eebec49-9f33-4048-88b0-160755130f0d",
   "metadata": {},
   "source": [
    "## Retrieval"
   ]
  },
  {
   "cell_type": "code",
   "execution_count": 97,
   "id": "1d731412-cd75-4852-8ac7-70a448f712f4",
   "metadata": {},
   "outputs": [],
   "source": [
    "def elastic_search_knn(field, vector, section):\n",
    "    knn = {\n",
    "        \"field\": field,\n",
    "        \"query_vector\": vector,\n",
    "        \"k\": 5,\n",
    "        \"num_candidates\": 10000,\n",
    "        \"filter\": {\n",
    "            \"term\": {\n",
    "                \"section\": section\n",
    "            }\n",
    "        }\n",
    "    }\n",
    "\n",
    "    search_query = {\n",
    "        \"knn\": knn,\n",
    "        \"_source\": [\"answer\", \"section\", \"question\", \"category\", \"id\"]\n",
    "    }\n",
    "\n",
    "    es_results = es_client.search(\n",
    "        index=index_name,\n",
    "        body=search_query\n",
    "    )\n",
    "    \n",
    "    result_docs = []\n",
    "    \n",
    "    for hit in es_results['hits']['hits']:\n",
    "        result_docs.append(hit['_source'])\n",
    "\n",
    "    return result_docs\n",
    "\n",
    "def question_answer_vector_knn(q):\n",
    "    question = q['question']\n",
    "    section = q['section']\n",
    "\n",
    "    v_q = model.encode(question)\n",
    "\n",
    "    return elastic_search_knn('question_answer_vector', v_q, section)"
   ]
  },
  {
   "cell_type": "code",
   "execution_count": 98,
   "id": "c6709f5d-806a-4157-b225-5e6fb1d0e665",
   "metadata": {},
   "outputs": [
    {
     "data": {
      "text/plain": [
       "[{'question': \"Can I get sick pay if I'm self-isolating?\",\n",
       "  'answer': \"Yes Statutory Sick Pay is available if you're self-isolating.\",\n",
       "  'section': 'general claim benefits',\n",
       "  'id': '1de35e0b-f233-554c-84ef-fc30494e0ea0',\n",
       "  'category': 'Temporarily unable to work'},\n",
       " {'question': 'How do I apply for sick pay?',\n",
       "  'answer': 'You need to provide a fit note from your doctor to apply for sick pay.',\n",
       "  'section': 'general claim benefits',\n",
       "  'id': 'ecc42084-d88e-5bf0-8070-a18552c283bb',\n",
       "  'category': 'Temporarily unable to work'},\n",
       " {'question': 'What is statutory sick pay?',\n",
       "  'answer': \"Statutory Sick Pay is a legal requirement for employers to pay you if you're ill.\",\n",
       "  'section': 'general claim benefits',\n",
       "  'id': 'ee6a77ec-d4ef-50f7-9762-04cc228b3a48',\n",
       "  'category': 'Temporarily unable to work'},\n",
       " {'question': 'How do I claim SSP?',\n",
       "  'answer': 'Statutory Sick Pay is claimed through your employer if you’re too ill to work.',\n",
       "  'section': 'general claim benefits',\n",
       "  'id': 'fa497683-9615-59ea-8543-3de56ba2bc13',\n",
       "  'category': 'Temporarily unable to work'},\n",
       " {'question': 'Can I apply for ESA while on SSP?',\n",
       "  'answer': 'You can apply for ESA when your Statutory Sick Pay ends if you’re still unable to work.',\n",
       "  'section': 'general claim benefits',\n",
       "  'id': '33d0fca6-fff6-52da-87f4-bd7d4e898351',\n",
       "  'category': 'Temporarily unable to work'}]"
      ]
     },
     "execution_count": 98,
     "metadata": {},
     "output_type": "execute_result"
    }
   ],
   "source": [
    "question_answer_vector_knn(dict(\n",
    "    question=\"Can I get sick pay if I'm self-isolating?\",\n",
    "    section ='general claim benefits'\n",
    "))"
   ]
  },
  {
   "cell_type": "markdown",
   "id": "468378a3-ecb3-45fa-af5c-3a33864f061d",
   "metadata": {},
   "source": [
    "## RAG flow with Vector Search (encoded question and answer)"
   ]
  },
  {
   "cell_type": "code",
   "execution_count": 89,
   "id": "9d090c50-d40e-454f-89bb-36970aad80fa",
   "metadata": {},
   "outputs": [],
   "source": [
    "def build_prompt(query, search_results):\n",
    " \n",
    "{context}    prompt_template = \"\"\"\n",
    "You are an expert in United Kingdom Benefit Claims and Medical Negligence Claims. Answer the QUESTION based on the CONTEXT from \n",
    "the FAQ databases of Benefits database and NHS claims management. \n",
    "Use only the facts from the CONTEXT when answering the QUESTION.\n",
    "\n",
    "QUESTION: {question}\n",
    "\n",
    "CONTEXT:\n",
    "\"\"\".strip()\n",
    "\n",
    "    context = \"\"\n",
    "    \n",
    "    for doc in search_results:\n",
    "        context = context + f\"category: {doc['category']}\\nquestion: {doc['question']}\\nanswer: {doc['answer']}\\nsection: {doc['section']}\\n\\n\"\n",
    "    \n",
    "    prompt = prompt_template.format(question=query, context=context).strip()\n",
    "    \n",
    "    return prompt"
   ]
  },
  {
   "cell_type": "code",
   "execution_count": 90,
   "id": "3268ad06-82ff-4049-8455-412576c0ea01",
   "metadata": {},
   "outputs": [],
   "source": [
    "client = OpenAI()\n",
    "\n",
    "def llm(prompt, model='gpt-4o-mini'):\n",
    "    response = client.chat.completions.create(\n",
    "        model=model,\n",
    "        messages=[{\"role\": \"user\", \"content\": prompt}]\n",
    "    )\n",
    "    \n",
    "    return response.choices[0].message.content"
   ]
  },
  {
   "cell_type": "code",
   "execution_count": 91,
   "id": "741358b2-1210-4e22-8abc-35da8788cf1c",
   "metadata": {},
   "outputs": [],
   "source": [
    "def rag(query: dict, model='gpt-4o-mini') -> str:\n",
    "    search_results = question_answer_vector_knn(query)\n",
    "    prompt = build_prompt(query['question'], search_results)\n",
    "    answer = llm(prompt, model=model)\n",
    "    return answer"
   ]
  },
  {
   "cell_type": "code",
   "execution_count": 92,
   "id": "bbd7d8dc-b057-4954-a2b6-21383af4c97a",
   "metadata": {},
   "outputs": [
    {
     "data": {
      "text/plain": [
       "\"Yes, Statutory Sick Pay is available if you're self-isolating.\""
      ]
     },
     "execution_count": 92,
     "metadata": {},
     "output_type": "execute_result"
    }
   ],
   "source": [
    "rag(ground_truth[50])"
   ]
  },
  {
   "cell_type": "code",
   "execution_count": 94,
   "id": "66815402-4dba-482b-a572-65b1a17f207e",
   "metadata": {},
   "outputs": [
    {
     "data": {
      "text/plain": [
       "{'category': 'Temporarily unable to work',\n",
       " 'question': 'How do I report a workplace injury?',\n",
       " 'answer': 'Report workplace injuries to your employer and apply for compensation if eligible.',\n",
       " 'section': 'general claim benefits',\n",
       " 'id': '39d45737-266e-5bbb-8d99-70edd404aa15',\n",
       " 'question_answer_vector': array([-2.02777479e-02,  9.49940458e-02,  3.13753299e-02, -3.31201963e-02,\n",
       "         7.92978257e-02,  8.51311311e-02, -5.75557724e-02,  7.16471300e-02,\n",
       "        -3.63708586e-02, -1.58154927e-02, -4.34555225e-02, -2.56604534e-02,\n",
       "        -2.18547545e-02,  3.15416828e-02, -5.98013168e-03, -7.39012063e-02,\n",
       "        -4.09065746e-02,  9.90735665e-02, -3.12540978e-02, -3.57698128e-02,\n",
       "         2.73585040e-02,  4.78895679e-02,  2.36578826e-02, -1.17720868e-02,\n",
       "        -5.47719821e-02,  2.06689220e-02, -1.57870483e-02,  3.65449265e-02,\n",
       "        -5.58490418e-02,  5.62503142e-03, -6.08176105e-02, -5.58923818e-02,\n",
       "        -2.87925992e-02,  3.82743701e-02, -1.07303374e-02, -2.36929171e-02,\n",
       "        -6.47565722e-02,  1.40147144e-02, -6.41260594e-02,  1.06867580e-02,\n",
       "        -2.66597476e-02, -1.27075436e-02,  3.57766934e-02, -1.40050706e-02,\n",
       "        -4.67480952e-03, -2.43789963e-02,  1.01483781e-02, -8.68264064e-02,\n",
       "        -3.04398574e-02,  4.43184935e-02, -6.21402152e-02,  5.22074290e-02,\n",
       "         5.70481569e-02,  9.23926104e-03,  4.77871560e-02, -9.13844928e-02,\n",
       "         2.73180958e-02, -3.65070477e-02, -5.93775250e-02, -3.68623435e-02,\n",
       "        -1.31125683e-02, -4.60490696e-02, -6.59992313e-03,  7.23001286e-02,\n",
       "         2.06314828e-02,  3.67779508e-02,  8.91703181e-03,  1.85345877e-02,\n",
       "        -3.82006802e-02,  5.57222916e-03,  1.28898052e-02, -5.48592173e-02,\n",
       "        -6.87510148e-02,  5.06062806e-02, -3.92921008e-02,  4.32774797e-02,\n",
       "        -2.85561662e-03, -9.53048351e-04,  2.53550038e-02,  2.92129721e-02,\n",
       "        -3.82515676e-02,  3.21281441e-02, -1.32080298e-02,  9.28667784e-02,\n",
       "         8.31736773e-02,  2.14349627e-02,  5.78589588e-02,  2.36882009e-02,\n",
       "        -2.39049420e-02,  4.11630645e-02, -6.28056750e-02,  6.27716631e-02,\n",
       "         3.07493135e-02, -3.98498178e-02,  5.52557148e-02, -4.58401963e-02,\n",
       "        -1.01761311e-01,  4.89901267e-02,  4.41481099e-02,  3.31454314e-02,\n",
       "        -3.24013047e-02, -9.33398008e-02,  1.71776395e-03, -3.55242193e-02,\n",
       "         1.13158105e-02,  6.71744207e-03, -9.70308036e-02, -1.52504342e-02,\n",
       "        -8.59835297e-02,  4.71573099e-02,  8.45408738e-02,  2.80227233e-02,\n",
       "        -3.24674137e-02, -6.98260367e-02,  1.67580731e-02,  6.63761096e-03,\n",
       "        -3.44010480e-02, -1.07372859e-02, -6.10767901e-02,  2.17427872e-02,\n",
       "         4.45211940e-02,  1.62123162e-02, -8.92232656e-02,  3.16316448e-02,\n",
       "         2.02550329e-02, -3.71156237e-03, -8.78895074e-03,  8.11116552e-32,\n",
       "         7.21523017e-02, -4.70454656e-02, -1.72724873e-02,  1.18380599e-02,\n",
       "         4.58902046e-02,  2.01693792e-02, -4.97503169e-02,  6.54247124e-03,\n",
       "         9.48818922e-02, -2.62075737e-02,  4.04776856e-02,  3.47222053e-02,\n",
       "         6.34424537e-02, -1.10054173e-01, -1.29820034e-01,  8.14559683e-02,\n",
       "         8.58321115e-02,  3.75869833e-02, -1.29452541e-01,  7.93742314e-02,\n",
       "         8.35211016e-03, -1.22369304e-01,  5.50117977e-02,  4.99616414e-02,\n",
       "        -4.52540293e-02,  9.98466909e-02, -2.69395057e-02, -7.46517256e-02,\n",
       "        -4.84467112e-02,  2.68972255e-02,  9.41593572e-02, -6.69421582e-03,\n",
       "         4.21642624e-02, -7.75286853e-02, -1.64769236e-02, -6.40806556e-02,\n",
       "        -2.68015731e-03, -3.05220820e-02, -1.61562171e-02, -1.20349918e-02,\n",
       "         3.75718288e-02, -8.38089287e-02, -2.07168180e-02,  3.27792554e-03,\n",
       "         6.87486902e-02,  2.46082377e-02, -4.94474992e-02, -2.39650123e-02,\n",
       "         8.07668567e-02, -2.37733386e-02, -1.18722478e-02,  5.72454482e-02,\n",
       "         4.75453632e-03,  5.17652603e-03,  5.00369526e-04,  4.98899892e-02,\n",
       "        -2.12211013e-02, -5.24421260e-02,  4.98053096e-02,  5.66317365e-02,\n",
       "         2.05051303e-02,  6.66007623e-02, -3.38126570e-02, -1.85944010e-02,\n",
       "        -6.09680638e-02, -3.39618325e-02, -4.35384037e-03,  1.38078853e-02,\n",
       "        -4.79184985e-02, -7.56809711e-02,  7.71772396e-03,  4.18171994e-02,\n",
       "         8.51313993e-02,  7.28594437e-02, -5.16587757e-02,  7.37022143e-03,\n",
       "         2.22909171e-03,  6.72943983e-03, -6.80210292e-02,  1.92437954e-02,\n",
       "         1.12403855e-02,  3.79576092e-03,  4.88237515e-02, -2.66882535e-02,\n",
       "         4.17161584e-02,  3.63962762e-02, -3.25367064e-03,  7.54262973e-03,\n",
       "        -6.80577978e-02,  1.18173331e-01,  4.71275188e-02,  6.63463213e-03,\n",
       "        -3.55269127e-02,  8.06682259e-02,  4.57873568e-02, -3.11225684e-33,\n",
       "        -4.57513258e-02,  7.62345865e-02,  5.04973810e-03, -1.00737117e-01,\n",
       "        -8.92174337e-03, -2.62593403e-02, -2.03364789e-02, -7.28892237e-02,\n",
       "         3.57119814e-02,  4.62582521e-02, -5.72477579e-02, -3.06994766e-02,\n",
       "        -1.08390465e-01,  6.41087517e-02, -1.52873233e-01,  1.98735278e-02,\n",
       "        -6.99698031e-02, -1.57981960e-03, -6.97221234e-02,  2.38107741e-02,\n",
       "        -2.04388797e-03, -3.91170792e-02,  4.66681309e-02,  2.36099027e-02,\n",
       "         2.77326293e-02,  6.29201829e-02,  6.66911602e-02, -3.83976288e-02,\n",
       "         1.85901974e-03, -4.46381308e-02,  3.00668161e-02, -2.65858267e-02,\n",
       "        -2.85800286e-02,  9.36504826e-02,  5.82453460e-02, -6.90815672e-02,\n",
       "         2.47327797e-02, -1.14388891e-01,  8.48486274e-02, -5.24218492e-02,\n",
       "         8.32633078e-02,  3.38027515e-02, -2.85799894e-02,  6.69154478e-03,\n",
       "        -1.04640368e-02, -7.50360861e-02, -3.26085612e-02, -5.03289141e-02,\n",
       "         3.66565250e-02, -2.27328800e-02,  1.81669127e-02, -4.01662178e-02,\n",
       "        -1.48811620e-02, -1.54375331e-03, -4.70136205e-04, -3.27028781e-02,\n",
       "         2.54722498e-02, -1.29952088e-01, -9.61296111e-02, -1.79777422e-03,\n",
       "        -8.96481350e-02,  5.15333042e-02, -5.66222286e-03,  8.06990266e-02,\n",
       "         5.51601201e-02, -2.78709885e-02, -1.88605599e-02, -7.66216293e-02,\n",
       "        -1.74290892e-02,  6.06574304e-02, -6.29079118e-02,  5.15705012e-02,\n",
       "        -1.70851108e-02,  2.21342240e-02,  5.78060485e-02, -2.96912417e-02,\n",
       "        -8.75056759e-02,  4.90861796e-02, -3.28154229e-02,  3.66871357e-02,\n",
       "         7.15863407e-02, -6.64661974e-02,  9.84259397e-02,  5.11129983e-02,\n",
       "         3.36867869e-02,  8.21633190e-02,  1.17415734e-01,  1.05897434e-01,\n",
       "        -1.05628073e-02, -6.20024763e-02, -1.00427382e-01,  2.36700457e-02,\n",
       "        -3.72273028e-02, -6.84469789e-02,  5.94320260e-02, -5.60425656e-34,\n",
       "        -1.66873056e-02, -1.03294784e-02,  1.68980695e-02, -4.16735820e-02,\n",
       "        -4.00568135e-02,  2.64586266e-02, -3.74698266e-02, -7.28308083e-03,\n",
       "        -7.08919892e-04,  2.14162515e-03, -9.66656506e-02, -4.69770320e-02,\n",
       "        -2.40054522e-02,  1.21870870e-02,  5.23917824e-02, -5.42239733e-02,\n",
       "        -1.57673154e-02,  5.49522005e-02, -2.22170390e-02, -2.47069895e-02,\n",
       "        -1.43606672e-02,  4.36375849e-03,  5.31939603e-02,  9.76403505e-02,\n",
       "         1.72323827e-02, -3.27093457e-03, -5.29991575e-02, -5.96922636e-02,\n",
       "        -5.87181859e-02,  2.35728570e-03, -5.13596348e-02,  2.04775967e-02,\n",
       "        -4.52416837e-02,  1.32646682e-02,  4.62008007e-02, -1.96075011e-02,\n",
       "         8.92046019e-02,  1.17805777e-02,  5.68366311e-02, -4.92362343e-02,\n",
       "        -2.84289420e-02,  5.50884418e-02,  5.19432500e-02,  3.08292806e-02,\n",
       "         4.78695780e-02, -2.29448974e-02,  5.72606083e-03, -3.01940739e-02,\n",
       "        -3.58689800e-02, -4.93572429e-02,  7.04210922e-02, -6.25812039e-02,\n",
       "         6.28684685e-02,  3.73203568e-02, -7.10386932e-02,  5.11503220e-02,\n",
       "         1.48711645e-03, -3.04465089e-02,  4.71657626e-02,  7.67649058e-03,\n",
       "         2.11283974e-02,  3.27856876e-02,  3.44324298e-02,  6.63797408e-02],\n",
       "       dtype=float32)}"
      ]
     },
     "execution_count": 94,
     "metadata": {},
     "output_type": "execute_result"
    }
   ],
   "source": [
    "documents[50]"
   ]
  },
  {
   "cell_type": "code",
   "execution_count": 93,
   "id": "7b8bc76e-e3ec-44a1-a0de-8e4644645cf3",
   "metadata": {},
   "outputs": [
    {
     "data": {
      "text/plain": [
       "{'question': 'Is Statutory Sick Pay applicable to those who are self-isolating?',\n",
       " 'section': 'general claim benefits',\n",
       " 'document': '1de35e0b-f233-554c-84ef-fc30494e0ea0'}"
      ]
     },
     "execution_count": 93,
     "metadata": {},
     "output_type": "execute_result"
    }
   ],
   "source": [
    "ground_truth[50]"
   ]
  },
  {
   "cell_type": "markdown",
   "id": "df330770-3a85-4655-b1b1-b37a213590fa",
   "metadata": {},
   "source": [
    "## Generating Answers for LLM comparison\n",
    "- gpt-40\n",
    "- gpt-4o-mini"
   ]
  },
  {
   "cell_type": "markdown",
   "id": "c5372249-ea14-46e6-bc60-3949e0d68a9f",
   "metadata": {},
   "source": [
    "## gpt-4o-mini"
   ]
  },
  {
   "cell_type": "code",
   "execution_count": 22,
   "id": "911c63e2-7921-4cd5-94f6-4587b2149b1a",
   "metadata": {},
   "outputs": [],
   "source": [
    "def rag(query: dict, model='gpt-4o-mini') -> str:\n",
    "    search_results = question_answer_vector_knn(query)\n",
    "    prompt = build_prompt(query['question'], search_results)\n",
    "    answer = llm(prompt, model=model)\n",
    "    return answer"
   ]
  },
  {
   "cell_type": "code",
   "execution_count": 23,
   "id": "7305190a-86b2-48f6-9433-2305d1393d8c",
   "metadata": {},
   "outputs": [],
   "source": [
    "doc_idx = {d['id']: d for d in documents}"
   ]
  },
  {
   "cell_type": "code",
   "execution_count": 24,
   "id": "f0e73c62-3c4e-4edc-899b-d076daf64ee7",
   "metadata": {},
   "outputs": [],
   "source": [
    "answers = {}"
   ]
  },
  {
   "cell_type": "code",
   "execution_count": null,
   "id": "21a68af2-08b4-4db5-9907-2634e7d3063b",
   "metadata": {},
   "outputs": [],
   "source": [
    "for i, rec in enumerate(tqdm(ground_truth)):\n",
    "    if i in answers:\n",
    "        continue\n",
    "\n",
    "    answer_llm = rag(rec)\n",
    "    doc_id = rec['document']\n",
    "    original_doc = doc_idx[doc_id]\n",
    "    answer_orig = original_doc['answer']\n",
    "\n",
    "    answers[i] = {\n",
    "        'answer_llm': answer_llm,\n",
    "        'answer_orig': answer_orig,\n",
    "        'document': doc_id,\n",
    "        'question': rec['question'],\n",
    "        'section': rec['section'],\n",
    "    }"
   ]
  },
  {
   "cell_type": "code",
   "execution_count": null,
   "id": "40789aa0-ce72-4cbc-8572-827227268ebc",
   "metadata": {},
   "outputs": [],
   "source": [
    "answers[2]"
   ]
  },
  {
   "cell_type": "code",
   "execution_count": null,
   "id": "fe55dabe-c728-417d-9356-d35167876218",
   "metadata": {},
   "outputs": [],
   "source": [
    "results_gpt4o_mini = [None] * len(ground_truth)\n",
    "\n",
    "for i, value in answers.items():\n",
    "    results_gpt4o_mini[i] = value.copy()\n",
    "    results_gpt4o_mini[i].update(ground_truth[i])"
   ]
  },
  {
   "cell_type": "code",
   "execution_count": null,
   "id": "e3589eb1-e653-4999-8adc-52a4e5b764de",
   "metadata": {},
   "outputs": [],
   "source": [
    "df_gpt4o_mini = pd.DataFrame(results_gpt4o_mini)"
   ]
  },
  {
   "cell_type": "code",
   "execution_count": null,
   "id": "6619ecfa-8f9e-4311-a368-a2d22f932eb1",
   "metadata": {},
   "outputs": [],
   "source": [
    "df_gpt4o_mini.to_csv('generate_data/resultsgpt4o-mini.csv', index=False)"
   ]
  },
  {
   "cell_type": "markdown",
   "id": "88c1ae27-0a8e-4e56-9151-69b79cfb61e7",
   "metadata": {},
   "source": [
    "## gpt-4o"
   ]
  },
  {
   "cell_type": "code",
   "execution_count": null,
   "id": "1d19d7aa-3733-4cdd-8e75-e82078c1bdbf",
   "metadata": {},
   "outputs": [],
   "source": [
    "def rag(query: dict, model='gpt-4o') -> str:\n",
    "    search_results = question_answer_vector_knn(query)\n",
    "    prompt = build_prompt(query['question'], search_results)\n",
    "    answer = llm(prompt, model=model)\n",
    "    return answer"
   ]
  },
  {
   "cell_type": "code",
   "execution_count": null,
   "id": "1f3a0f51-8926-4f02-8783-8cef479a3686",
   "metadata": {},
   "outputs": [],
   "source": [
    "answers = {}\n",
    "for i, rec in enumerate(tqdm(ground_truth)):\n",
    "    if i in answers:\n",
    "        continue\n",
    "\n",
    "    answer_llm = rag(rec)\n",
    "    doc_id = rec['document']\n",
    "    original_doc = doc_idx[doc_id]\n",
    "    answer_orig = original_doc['answer']\n",
    "\n",
    "    answers[i] = {\n",
    "        'answer_llm': answer_llm,\n",
    "        'answer_orig': answer_orig,\n",
    "        'document': doc_id,\n",
    "        'question': rec['question'],\n",
    "        'section': rec['section'],\n",
    "    }"
   ]
  },
  {
   "cell_type": "code",
   "execution_count": null,
   "id": "b58d283a-c9c5-4e30-9dc4-b87f7bd43e79",
   "metadata": {},
   "outputs": [],
   "source": [
    "results_gpt4o = [None] * len(ground_truth)\n",
    "\n",
    "for i, value in answers.items():\n",
    "    results_gpt4o[i] = value.copy()\n",
    "    results_gpt4o[i].update(ground_truth[i])"
   ]
  },
  {
   "cell_type": "code",
   "execution_count": null,
   "id": "9c219b66-29d8-425b-8ca6-4dc7657fc776",
   "metadata": {},
   "outputs": [],
   "source": [
    "df_gpt4o = pd.DataFrame(results_gpt4o)"
   ]
  },
  {
   "cell_type": "code",
   "execution_count": null,
   "id": "c1fd779e-deca-4a6b-afe6-a98c42eb9b32",
   "metadata": {},
   "outputs": [],
   "source": [
    "df_gpt4o.to_csv('generate_data/resultsgpt4o.csv', index=False)"
   ]
  },
  {
   "cell_type": "code",
   "execution_count": null,
   "id": "02bb26f6-05e4-40f9-a132-6b2db37301b1",
   "metadata": {},
   "outputs": [],
   "source": []
  },
  {
   "cell_type": "markdown",
   "id": "97829971-63d0-404b-87b9-e9ca52c50072",
   "metadata": {},
   "source": [
    "# Cosine Similarity\n",
    "\n",
    "- Loading generated answers from:\n",
    "- gpt4o\n",
    "- gpt4o-mini\n",
    "- flant5"
   ]
  },
  {
   "cell_type": "markdown",
   "id": "a2407c96-dcad-41ed-8c29-f8a8624b5b4d",
   "metadata": {},
   "source": [
    "## gpt-4o"
   ]
  },
  {
   "cell_type": "code",
   "execution_count": 26,
   "id": "afc279f6-1f68-4d75-bcd3-c477d48cf144",
   "metadata": {},
   "outputs": [],
   "source": [
    "df_gpt4o = pd.read_csv('../generate_data/resultsgpt4o.csv')\n",
    "resultsgpt4o = df_gpt4o.to_dict(orient='records')\n",
    "# resultsgpt4o[0]"
   ]
  },
  {
   "cell_type": "code",
   "execution_count": 27,
   "id": "4ea282c4-13f8-4795-879b-c331547e18d7",
   "metadata": {},
   "outputs": [],
   "source": [
    "df_gpt4o_mini = pd.read_csv('../generate_data/resultsgpt4o-mini.csv')\n",
    "resultsgpt4o_mini = df_gpt4o_mini.to_dict(orient='records') "
   ]
  },
  {
   "cell_type": "code",
   "execution_count": 28,
   "id": "7cba8b4c-fb61-4b54-a89d-9a0574750404",
   "metadata": {},
   "outputs": [],
   "source": [
    "df_flant5 = pd.read_csv('../generate_data/resultsflant5.csv')\n",
    "resultsflant5 = df_flant5.to_dict(orient='records')"
   ]
  },
  {
   "cell_type": "code",
   "execution_count": 29,
   "id": "abd0377b-1b47-43a3-b0de-80c0212f958e",
   "metadata": {},
   "outputs": [],
   "source": [
    "record = resultsgpt4o[0]"
   ]
  },
  {
   "cell_type": "code",
   "execution_count": 30,
   "id": "8792bac0-8783-434d-b636-8e49ef203d6b",
   "metadata": {},
   "outputs": [],
   "source": [
    "def compute_similarity(record):\n",
    "    answer_original = record['answer_orig']\n",
    "    answer_llm = record['answer_llm']\n",
    "\n",
    "    vector_llm = model.encode(answer_llm)\n",
    "    vector_orig = model.encode(answer_original)\n",
    "\n",
    "    return vector_llm.dot(vector_orig)"
   ]
  },
  {
   "cell_type": "code",
   "execution_count": 31,
   "id": "8bab2bcf-d0d6-4a42-a682-3bf465345df9",
   "metadata": {},
   "outputs": [
    {
     "name": "stderr",
     "output_type": "stream",
     "text": [
      "100%|█████████████████████████████████████████████████████████████████████████████████████████████████████| 2055/2055 [01:25<00:00, 24.15it/s]\n"
     ]
    }
   ],
   "source": [
    "similarity = []\n",
    "\n",
    "for record in tqdm(resultsgpt4o):\n",
    "    sim = compute_similarity(record)\n",
    "    similarity.append(sim)"
   ]
  },
  {
   "cell_type": "code",
   "execution_count": null,
   "id": "596b7a9b-aca4-4997-a533-2f23ab480a66",
   "metadata": {},
   "outputs": [],
   "source": []
  },
  {
   "cell_type": "code",
   "execution_count": 32,
   "id": "58847df0-9dd8-4295-9116-279dada26601",
   "metadata": {},
   "outputs": [
    {
     "data": {
      "text/html": [
       "<div>\n",
       "<style scoped>\n",
       "    .dataframe tbody tr th:only-of-type {\n",
       "        vertical-align: middle;\n",
       "    }\n",
       "\n",
       "    .dataframe tbody tr th {\n",
       "        vertical-align: top;\n",
       "    }\n",
       "\n",
       "    .dataframe thead th {\n",
       "        text-align: right;\n",
       "    }\n",
       "</style>\n",
       "<table border=\"1\" class=\"dataframe\">\n",
       "  <thead>\n",
       "    <tr style=\"text-align: right;\">\n",
       "      <th></th>\n",
       "      <th>cosine_sim</th>\n",
       "    </tr>\n",
       "  </thead>\n",
       "  <tbody>\n",
       "    <tr>\n",
       "      <th>count</th>\n",
       "      <td>2055.000000</td>\n",
       "    </tr>\n",
       "    <tr>\n",
       "      <th>mean</th>\n",
       "      <td>0.794962</td>\n",
       "    </tr>\n",
       "    <tr>\n",
       "      <th>std</th>\n",
       "      <td>0.155748</td>\n",
       "    </tr>\n",
       "    <tr>\n",
       "      <th>min</th>\n",
       "      <td>-0.007994</td>\n",
       "    </tr>\n",
       "    <tr>\n",
       "      <th>25%</th>\n",
       "      <td>0.717219</td>\n",
       "    </tr>\n",
       "    <tr>\n",
       "      <th>50%</th>\n",
       "      <td>0.828932</td>\n",
       "    </tr>\n",
       "    <tr>\n",
       "      <th>75%</th>\n",
       "      <td>0.903173</td>\n",
       "    </tr>\n",
       "    <tr>\n",
       "      <th>max</th>\n",
       "      <td>1.000000</td>\n",
       "    </tr>\n",
       "  </tbody>\n",
       "</table>\n",
       "</div>"
      ],
      "text/plain": [
       "        cosine_sim\n",
       "count  2055.000000\n",
       "mean      0.794962\n",
       "std       0.155748\n",
       "min      -0.007994\n",
       "25%       0.717219\n",
       "50%       0.828932\n",
       "75%       0.903173\n",
       "max       1.000000"
      ]
     },
     "execution_count": 32,
     "metadata": {},
     "output_type": "execute_result"
    }
   ],
   "source": [
    "df_gpt4o['cosine_sim'] = similarity\n",
    "df_gpt4o.describe()"
   ]
  },
  {
   "cell_type": "markdown",
   "id": "3fd33d99-2d2a-4d6e-891b-84e1be15b258",
   "metadata": {},
   "source": [
    "**On Average the mean cosine similarity of gpt-4o performance is 79%**"
   ]
  },
  {
   "cell_type": "code",
   "execution_count": 33,
   "id": "b6ce401c-0e0e-4458-a13d-aa90daad6690",
   "metadata": {},
   "outputs": [
    {
     "name": "stderr",
     "output_type": "stream",
     "text": [
      "/tmp/ipykernel_7485/3200298923.py:4: UserWarning: \n",
      "\n",
      "`distplot` is a deprecated function and will be removed in seaborn v0.14.0.\n",
      "\n",
      "Please adapt your code to use either `displot` (a figure-level function with\n",
      "similar flexibility) or `histplot` (an axes-level function for histograms).\n",
      "\n",
      "For a guide to updating your code to use the new functions, please see\n",
      "https://gist.github.com/mwaskom/de44147ed2974457ad6372750bbe5751\n",
      "\n",
      "  sns.distplot(df_gpt4o['cosine_sim'])\n",
      "/tmp/ipykernel_7485/3200298923.py:5: UserWarning: No artists with labels found to put in legend.  Note that artists whose label start with an underscore are ignored when legend() is called with no argument.\n",
      "  plt.legend(title=\"cosine similarity\",loc=\"upper left\")\n"
     ]
    },
    {
     "data": {
      "image/png": "[encoded data removed]",
      "text/plain": [
       "<Figure size 640x480 with 1 Axes>"
      ]
     },
     "metadata": {},
     "output_type": "display_data"
    }
   ],
   "source": [
    "import seaborn as sns\n",
    "\n",
    "import matplotlib.pyplot as plt\n",
    "sns.distplot(df_gpt4o['cosine_sim'])\n",
    "plt.legend(title=\"cosine similarity\",loc=\"upper left\")\n",
    "\n",
    "plt.show()"
   ]
  },
  {
   "cell_type": "markdown",
   "id": "b475ca55-59b2-412d-a681-5a75134371ba",
   "metadata": {},
   "source": [
    "## gpt-4o-mini"
   ]
  },
  {
   "cell_type": "code",
   "execution_count": 34,
   "id": "135271f6-0fa3-4a7b-81da-9fbe231d23aa",
   "metadata": {},
   "outputs": [],
   "source": [
    "record = resultsgpt4o_mini[0]"
   ]
  },
  {
   "cell_type": "code",
   "execution_count": 35,
   "id": "edaa61a1-834f-43a6-9bae-1ebbb011c929",
   "metadata": {},
   "outputs": [],
   "source": [
    "def compute_similarity(record):\n",
    "    answer_original = record['answer_orig']\n",
    "    answer_llm = record['answer_llm']\n",
    "\n",
    "    vector_llm = model.encode(answer_llm)\n",
    "    vector_orig = model.encode(answer_original)\n",
    "\n",
    "    return vector_llm.dot(vector_orig)"
   ]
  },
  {
   "cell_type": "code",
   "execution_count": 36,
   "id": "a0d658da-415e-4059-8105-fe7cb852e02f",
   "metadata": {},
   "outputs": [
    {
     "name": "stderr",
     "output_type": "stream",
     "text": [
      "100%|█████████████████████████████████████████████████████████████████████████████████████████████████████| 2055/2055 [01:20<00:00, 25.63it/s]\n"
     ]
    }
   ],
   "source": [
    "similarity_mini = []\n",
    "\n",
    "for record in tqdm(resultsgpt4o_mini):\n",
    "    sim = compute_similarity(record)\n",
    "    similarity_mini.append(sim)"
   ]
  },
  {
   "cell_type": "code",
   "execution_count": 37,
   "id": "2db452bb-0c7e-4d12-82c7-3ad0d451c897",
   "metadata": {},
   "outputs": [
    {
     "data": {
      "text/html": [
       "<div>\n",
       "<style scoped>\n",
       "    .dataframe tbody tr th:only-of-type {\n",
       "        vertical-align: middle;\n",
       "    }\n",
       "\n",
       "    .dataframe tbody tr th {\n",
       "        vertical-align: top;\n",
       "    }\n",
       "\n",
       "    .dataframe thead th {\n",
       "        text-align: right;\n",
       "    }\n",
       "</style>\n",
       "<table border=\"1\" class=\"dataframe\">\n",
       "  <thead>\n",
       "    <tr style=\"text-align: right;\">\n",
       "      <th></th>\n",
       "      <th>cosine_sim</th>\n",
       "    </tr>\n",
       "  </thead>\n",
       "  <tbody>\n",
       "    <tr>\n",
       "      <th>count</th>\n",
       "      <td>2055.000000</td>\n",
       "    </tr>\n",
       "    <tr>\n",
       "      <th>mean</th>\n",
       "      <td>0.799894</td>\n",
       "    </tr>\n",
       "    <tr>\n",
       "      <th>std</th>\n",
       "      <td>0.152647</td>\n",
       "    </tr>\n",
       "    <tr>\n",
       "      <th>min</th>\n",
       "      <td>-0.132416</td>\n",
       "    </tr>\n",
       "    <tr>\n",
       "      <th>25%</th>\n",
       "      <td>0.730513</td>\n",
       "    </tr>\n",
       "    <tr>\n",
       "      <th>50%</th>\n",
       "      <td>0.836938</td>\n",
       "    </tr>\n",
       "    <tr>\n",
       "      <th>75%</th>\n",
       "      <td>0.904503</td>\n",
       "    </tr>\n",
       "    <tr>\n",
       "      <th>max</th>\n",
       "      <td>1.000000</td>\n",
       "    </tr>\n",
       "  </tbody>\n",
       "</table>\n",
       "</div>"
      ],
      "text/plain": [
       "        cosine_sim\n",
       "count  2055.000000\n",
       "mean      0.799894\n",
       "std       0.152647\n",
       "min      -0.132416\n",
       "25%       0.730513\n",
       "50%       0.836938\n",
       "75%       0.904503\n",
       "max       1.000000"
      ]
     },
     "execution_count": 37,
     "metadata": {},
     "output_type": "execute_result"
    }
   ],
   "source": [
    "df_gpt4o_mini['cosine_sim'] = similarity_mini\n",
    "df_gpt4o_mini.describe()"
   ]
  },
  {
   "cell_type": "markdown",
   "id": "1b049afa-b612-4830-a086-fbfb7c9c1e9a",
   "metadata": {},
   "source": [
    "**On Average the mean cosine similarity of gpt-4o-mini performance is 80%**"
   ]
  },
  {
   "cell_type": "code",
   "execution_count": 38,
   "id": "a38fd6d5-b562-497a-a805-1fc2eb74ce08",
   "metadata": {},
   "outputs": [
    {
     "name": "stderr",
     "output_type": "stream",
     "text": [
      "/tmp/ipykernel_7485/3518590851.py:1: UserWarning: \n",
      "\n",
      "`distplot` is a deprecated function and will be removed in seaborn v0.14.0.\n",
      "\n",
      "Please adapt your code to use either `displot` (a figure-level function with\n",
      "similar flexibility) or `histplot` (an axes-level function for histograms).\n",
      "\n",
      "For a guide to updating your code to use the new functions, please see\n",
      "https://gist.github.com/mwaskom/de44147ed2974457ad6372750bbe5751\n",
      "\n",
      "  sns.distplot(df_gpt4o_mini['cosine_sim'])\n",
      "/tmp/ipykernel_7485/3518590851.py:2: UserWarning: No artists with labels found to put in legend.  Note that artists whose label start with an underscore are ignored when legend() is called with no argument.\n",
      "  plt.legend(title=\"cosine similarity\",loc=\"upper left\")\n"
     ]
    },
    {
     "data": {
      "image/png": "[encoded data removed]",
      "text/plain": [
       "<Figure size 640x480 with 1 Axes>"
      ]
     },
     "metadata": {},
     "output_type": "display_data"
    }
   ],
   "source": [
    "sns.distplot(df_gpt4o_mini['cosine_sim'])\n",
    "plt.legend(title=\"cosine similarity\",loc=\"upper left\")\n",
    "\n",
    "plt.show()"
   ]
  },
  {
   "cell_type": "markdown",
   "id": "aef0ba3a-f9ce-41e5-8eea-51eae01eae6e",
   "metadata": {},
   "source": [
    "### comparing gpt-4o with gpt4o-mini"
   ]
  },
  {
   "cell_type": "code",
   "execution_count": 39,
   "id": "ffcc2973-aeb2-4eee-a316-ebcef64024b2",
   "metadata": {},
   "outputs": [
    {
     "name": "stderr",
     "output_type": "stream",
     "text": [
      "/tmp/ipykernel_7485/3764530184.py:1: UserWarning: \n",
      "\n",
      "`distplot` is a deprecated function and will be removed in seaborn v0.14.0.\n",
      "\n",
      "Please adapt your code to use either `displot` (a figure-level function with\n",
      "similar flexibility) or `histplot` (an axes-level function for histograms).\n",
      "\n",
      "For a guide to updating your code to use the new functions, please see\n",
      "https://gist.github.com/mwaskom/de44147ed2974457ad6372750bbe5751\n",
      "\n",
      "  sns.distplot(df_gpt4o['cosine_sim'], label='gpt-4o')\n",
      "/tmp/ipykernel_7485/3764530184.py:2: UserWarning: \n",
      "\n",
      "`distplot` is a deprecated function and will be removed in seaborn v0.14.0.\n",
      "\n",
      "Please adapt your code to use either `displot` (a figure-level function with\n",
      "similar flexibility) or `histplot` (an axes-level function for histograms).\n",
      "\n",
      "For a guide to updating your code to use the new functions, please see\n",
      "https://gist.github.com/mwaskom/de44147ed2974457ad6372750bbe5751\n",
      "\n",
      "  sns.distplot(df_gpt4o_mini['cosine_sim'], label='gpt-4o-mini')\n"
     ]
    },
    {
     "data": {
      "text/plain": [
       "<matplotlib.legend.Legend at 0x79d4f358f0b0>"
      ]
     },
     "execution_count": 39,
     "metadata": {},
     "output_type": "execute_result"
    },
    {
     "data": {
      "image/png": "[encoded data removed]",
      "text/plain": [
       "<Figure size 640x480 with 1 Axes>"
      ]
     },
     "metadata": {},
     "output_type": "display_data"
    }
   ],
   "source": [
    "sns.distplot(df_gpt4o['cosine_sim'], label='gpt-4o')\n",
    "sns.distplot(df_gpt4o_mini['cosine_sim'], label='gpt-4o-mini')\n",
    "\n",
    "plt.legend()"
   ]
  },
  {
   "cell_type": "markdown",
   "id": "3dc63edd-dbd3-4e85-9e69-18e25e86517d",
   "metadata": {},
   "source": [
    "## flant5"
   ]
  },
  {
   "cell_type": "code",
   "execution_count": 40,
   "id": "907cb97c-9fb3-431b-9273-f047935a0812",
   "metadata": {},
   "outputs": [],
   "source": [
    "record = resultsflant5[0]"
   ]
  },
  {
   "cell_type": "code",
   "execution_count": 41,
   "id": "15c29b1c-2223-4ebd-a383-cbcec7942a9d",
   "metadata": {},
   "outputs": [],
   "source": [
    "def compute_similarity(record):\n",
    "    answer_original = record['answer_orig']\n",
    "    answer_llm = record['answer_llm']\n",
    "\n",
    "    vector_llm = model.encode(answer_llm)\n",
    "    vector_orig = model.encode(answer_original)\n",
    "\n",
    "    return vector_llm.dot(vector_orig)"
   ]
  },
  {
   "cell_type": "code",
   "execution_count": null,
   "id": "459e5474-94c8-4606-99b6-ef732d1e4831",
   "metadata": {},
   "outputs": [],
   "source": [
    "similarity_t5 = []\n",
    "\n",
    "for record in tqdm(resultsflant5):\n",
    "    sim = compute_similarity(record)\n",
    "    similarity_t5.append(sim)"
   ]
  },
  {
   "cell_type": "code",
   "execution_count": null,
   "id": "6db90cc8-4787-4f4f-aabf-4aae9652beab",
   "metadata": {},
   "outputs": [],
   "source": [
    "df_flant5['cosine_sim'] = similarity_t5\n",
    "df_flant5.describe()"
   ]
  },
  {
   "cell_type": "markdown",
   "id": "f4d5a95d-73f2-47ad-9244-ee7fdae22940",
   "metadata": {},
   "source": [
    "**On average Google flant5 gave the worst average of 50%**"
   ]
  },
  {
   "cell_type": "code",
   "execution_count": null,
   "id": "d6c00c06-9f1e-4f27-851f-060f77058d21",
   "metadata": {},
   "outputs": [],
   "source": [
    "sns.distplot(df_flant5['cosine_sim'])\n",
    "plt.legend(title=\"cosine similarity\",loc=\"upper left\")\n",
    "\n",
    "plt.show()"
   ]
  },
  {
   "cell_type": "code",
   "execution_count": null,
   "id": "1c6f8d4a-493a-4964-9bdc-1707275b5a59",
   "metadata": {},
   "outputs": [],
   "source": []
  },
  {
   "cell_type": "code",
   "execution_count": null,
   "id": "368c0af4-3a74-4d16-8140-d812c65f0764",
   "metadata": {},
   "outputs": [],
   "source": [
    "sns.distplot(df_gpt4o['cosine_sim'], label='gpt-4o')\n",
    "sns.distplot(df_gpt4o_mini['cosine_sim'], label='gpt-4o-mini')\n",
    "sns.distplot(df_flant5['cosine_sim'], label='flant5')\n",
    "\n",
    "plt.legend()"
   ]
  },
  {
   "cell_type": "markdown",
   "id": "6cdfe9c6-ce80-49dc-9804-4c988c52b113",
   "metadata": {},
   "source": [
    "## LLM as a judge"
   ]
  },
  {
   "cell_type": "code",
   "execution_count": 49,
   "id": "43b2c8bd-2ebe-49e4-ac02-86fae5e7dfef",
   "metadata": {},
   "outputs": [],
   "source": [
    "prompt1_template=\"\"\"\n",
    "You are a judge evaluating the quality of a generated answer. Below is the original answer, \n",
    "a question generated based on this answer, and the final answer generated for that question. \n",
    "Your task is to evaluate the relevance and similarity of the generated answer compared to the original answer, and label it as one of the following:\n",
    "\n",
    "Here is the data for evaluation:\n",
    "\n",
    "Original Answer: {answer_orig}\n",
    "Generated Question: {question}\n",
    "Generated Answer: {answer_llm}\n",
    "\n",
    "Please analyze the content and context of the generated answer in relation to the original\n",
    "answer and provide your evaluation in parsable JSON without using code blocks:\n",
    "\n",
    "{{\n",
    "  \"Relevance\": \"NON_RELEVANT\" | \"PARTLY_RELEVANT\" | \"RELEVANT\",\n",
    "  \"Explanation\": \"[Provide a brief explanation for your evaluation]\"\n",
    "}}\n",
    "\"\"\".strip()\n",
    "prompt2_template=\"\"\"\n",
    "You are a judge evaluating the quality of a generated answer based solely on the relevance to the given question. \n",
    "Below is the generated question and the final generated answer. \n",
    "Your task is to assess how well the generated answer responds to the question and label it as one of the following:\n",
    "\n",
    "Here is the data for evaluation:\n",
    "\n",
    "Question: {question}\n",
    "Generated Answer: {answer_llm}\n",
    "\n",
    "Please analyze the content and context of the generated answer in relation to the question\n",
    "and provide your evaluation in parsable JSON without using code blocks:\n",
    "\n",
    "{{\n",
    "  \"Relevance\": \"NON_RELEVANT\" | \"PARTLY_RELEVANT\" | \"RELEVANT\",\n",
    "  \"Explanation\": \"[Provide a brief explanation for your evaluation]\"\n",
    "}}\n",
    "\"\"\".strip()"
   ]
  },
  {
   "cell_type": "code",
   "execution_count": 47,
   "id": "9e4e06a9-10b4-4aab-bb68-bf8c47e8e2f3",
   "metadata": {},
   "outputs": [],
   "source": [
    "resultsgpt4o_mini =df_gpt4o_mini.to_dict(orient='records')"
   ]
  },
  {
   "cell_type": "code",
   "execution_count": 48,
   "id": "51f29e08-ec90-464c-85b0-02c205f0cf7b",
   "metadata": {},
   "outputs": [],
   "source": [
    "record = resultsgpt4o_mini[0]"
   ]
  },
  {
   "cell_type": "code",
   "execution_count": 55,
   "id": "4204da22-e729-493e-bc78-7ae6517edb0d",
   "metadata": {},
   "outputs": [
    {
     "name": "stderr",
     "output_type": "stream",
     "text": [
      "100%|█████████████████████████████████████████████████████████████████████████████████████████████████████| 2055/2055 [37:26<00:00,  1.09s/it]\n"
     ]
    }
   ],
   "source": [
    "evaluations = []\n",
    "\n",
    "for record in tqdm(resultsgpt4o_mini):\n",
    "    prompt = prompt1_template.format(**record)\n",
    "    evaluation = llm(prompt, model='gpt-4o-mini')\n",
    "    evaluations.append(evaluation)"
   ]
  },
  {
   "cell_type": "code",
   "execution_count": 56,
   "id": "93876200-b297-42d2-a6a1-e209b4538a3f",
   "metadata": {},
   "outputs": [],
   "source": [
    "json_evals = []\n",
    "\n",
    "for i, str_eval in enumerate(evaluations):\n",
    "    json_eval = json.loads(str_eval)\n",
    "    json_evals.append(json_eval)"
   ]
  },
  {
   "cell_type": "code",
   "execution_count": 57,
   "id": "8e0fe732-72d2-4484-956f-eb38cc04fa21",
   "metadata": {},
   "outputs": [],
   "source": [
    "df_evals = pd.DataFrame(json_evals)"
   ]
  },
  {
   "cell_type": "code",
   "execution_count": 60,
   "id": "fe98440b-747c-4a6d-8f75-245dd617d75b",
   "metadata": {},
   "outputs": [
    {
     "data": {
      "text/plain": [
       "Relevance\n",
       "RELEVANT           1916\n",
       "PARTLY_RELEVANT     102\n",
       "NON_RELEVANT         37\n",
       "Name: count, dtype: int64"
      ]
     },
     "execution_count": 60,
     "metadata": {},
     "output_type": "execute_result"
    }
   ],
   "source": [
    "df_evals.Relevance.value_counts()"
   ]
  },
  {
   "cell_type": "code",
   "execution_count": 61,
   "id": "4500e385-2bd8-473a-8b03-cb42b346d235",
   "metadata": {},
   "outputs": [
    {
     "name": "stdout",
     "output_type": "stream",
     "text": [
      "You are a judge evaluating the quality of a generated answer based solely on the relevance to the given question. \n",
      "Below is the generated question and the final generated answer. \n",
      "Your task is to assess how well the generated answer responds to the question and label it as one of the following:\n",
      "\n",
      "Here is the data for evaluation:\n",
      "\n",
      "Question: What’s the recommended course of action if I’ve been injured by sodium valproate?\n",
      "Generated Answer: If you've been injured by sodium valproate, the recommended course of action is to seek legal advice immediately. This will help you explore your options for making a claim and obtaining compensation. Additionally, it's crucial to gather evidence such as medical records and prescription details to support your claim.\n",
      "\n",
      "Please analyze the content and context of the generated answer in relation to the question\n",
      "and provide your evaluation in parsable JSON without using code blocks:\n",
      "\n",
      "{\n",
      "  \"Relevance\": \"NON_RELEVANT\" | \"PARTLY_RELEVANT\" | \"RELEVANT\",\n",
      "  \"Explanation\": \"[Provide a brief explanation for your evaluation]\"\n",
      "}\n"
     ]
    }
   ],
   "source": [
    "prompt = prompt2_template.format(**record)\n",
    "print(prompt)"
   ]
  },
  {
   "cell_type": "code",
   "execution_count": 64,
   "id": "baa209f7-f95e-419c-9d1e-df37a35dd665",
   "metadata": {},
   "outputs": [
    {
     "name": "stderr",
     "output_type": "stream",
     "text": [
      "100%|█████████████████████████████████████████████████████████████████████████████████████████████████████| 2055/2055 [34:03<00:00,  1.01it/s]\n"
     ]
    }
   ],
   "source": [
    "evals_2 = []\n",
    "\n",
    "for record in tqdm(resultsgpt4o_mini):\n",
    "    prompt = prompt2_template.format(**record)\n",
    "    evaluation = llm(prompt, model='gpt-4o-mini')\n",
    "    evals_2.append(evaluation)"
   ]
  },
  {
   "cell_type": "code",
   "execution_count": 65,
   "id": "c3b392e2-c6e7-4112-a23e-ff80c02bc68a",
   "metadata": {},
   "outputs": [],
   "source": [
    "json_evals_2 = []\n",
    "\n",
    "for i, str_eval in enumerate(evals_2):\n",
    "    json_eval = json.loads(str_eval)\n",
    "    json_evals_2.append(json_eval)"
   ]
  },
  {
   "cell_type": "code",
   "execution_count": 66,
   "id": "cf97e7a4-2929-4817-b7c8-10e4489ffcd8",
   "metadata": {},
   "outputs": [],
   "source": [
    "df_evals_2 = pd.DataFrame(json_evals_2)"
   ]
  },
  {
   "cell_type": "code",
   "execution_count": 70,
   "id": "32b727ba-deb6-4af7-a961-1d8b788ee156",
   "metadata": {},
   "outputs": [
    {
     "data": {
      "text/plain": [
       "Relevance\n",
       "RELEVANT           1823\n",
       "PARTLY_RELEVANT     214\n",
       "NON_RELEVANT         18\n",
       "Name: count, dtype: int64"
      ]
     },
     "execution_count": 70,
     "metadata": {},
     "output_type": "execute_result"
    }
   ],
   "source": [
    "df_evals_2['Relevance'].value_counts()"
   ]
  },
  {
   "cell_type": "code",
   "execution_count": 68,
   "id": "f1aec1b3-aeae-4c8d-839c-1f2374a6e24d",
   "metadata": {},
   "outputs": [],
   "source": [
    "df_evals.to_csv('../generate_data/evaluations-aqa.csv', index=False)\n",
    "df_evals_2.to_csv('../generate_data/evaluations-qa.csv', index=False)"
   ]
  },
  {
   "cell_type": "code",
   "execution_count": 78,
   "id": "65c38950-f6ef-43c6-83f4-e83e609607b2",
   "metadata": {},
   "outputs": [
    {
     "data": {
      "text/plain": [
       "[{'Relevance': 'NON_RELEVANT',\n",
       "  'Explanation': \"The generated answer does not respond to the question 'questions' in any meaningful way. The question is too vague or general, and the answer about the Disabled Students' Allowance does not relate to 'questions' as it does not clarify, explain, or provide a list of questions.\"},\n",
       " {'Relevance': 'NON_RELEVANT',\n",
       "  'Explanation': \"The generated answer does not address the question as it lacks context and specificity regarding what 'question1' is, making the answers provided irrelevant without a clear connection to the actual question posed.\"},\n",
       " {'Relevance': 'NON_RELEVANT',\n",
       "  'Explanation': 'The generated answer does not address question3 as it provides a series of unrelated information about various topics, none of which correspond to the specifics of the question asked.'},\n",
       " {'Relevance': 'NON_RELEVANT',\n",
       "  'Explanation': \"The generated answer points out the lack of specificity in the term 'questions' but fails to address or provide any relevant information or context that would help clarify what the user is seeking. Instead, it shifts the responsibility back to the user without engaging with the potential implications of the term presented.\"},\n",
       " {'Relevance': 'NON_RELEVANT',\n",
       "  'Explanation': \"The generated answer does not address the term 'questions'. Instead, it defines the Disabled Students’ Allowance, which is unrelated to the prompt.\"},\n",
       " {'Relevance': 'NON_RELEVANT',\n",
       "  'Explanation': \"The question is vague, simply stating 'questions,' and does not provide any context or specific area of inquiry. The generated answer about the Disabled Students' Allowance does not address the question and is unrelated to it.\"},\n",
       " {'Relevance': 'NON_RELEVANT',\n",
       "  'Explanation': \"The generated answer does not address the content of the question 'questions' and instead asks for clarification, which does not provide any information or relevance to the original question.\"},\n",
       " {'Relevance': 'NON_RELEVANT',\n",
       "  'Explanation': \"The generated answer does not address the question 'questions' directly and instead offers to assist with specific types of claims. It fails to clarify or provide information related to the nature of the questions themselves.\"},\n",
       " {'Relevance': 'NON_RELEVANT',\n",
       "  'Explanation': 'The generated answer does not address the question about support for disaster victims and instead focuses on unrelated topics such as support for carers and financial aid for low-income individuals. It fails to provide any information or acknowledgment of disaster victim support.'},\n",
       " {'Relevance': 'NON_RELEVANT',\n",
       "  'Explanation': \"The generated answer does not address the question as it merely states that no specific question was provided. It asks for clarification instead of engaging with the topic inherently suggested by the term 'questions.'\"},\n",
       " {'Relevance': 'NON_RELEVANT',\n",
       "  'Explanation': 'The generated answer does not provide any information about the duration of a work trial and instead states that the context does not specify it. This means it fails to directly address the question asked.'},\n",
       " {'Relevance': 'NON_RELEVANT',\n",
       "  'Explanation': \"The generated answer does not address the question 'questions'. Instead, it provides advice on preparing for a job interview, which is not related to the concept of 'questions' itself.\"},\n",
       " {'Relevance': 'NON_RELEVANT',\n",
       "  'Explanation': \"The generated answer fails to address the question, which is simply the word 'questions', and instead asks for information on a specific topic, the Disabled Students’ Allowance. This does not provide any relevant information or respond to the original prompt.\"},\n",
       " {'Relevance': 'NON_RELEVANT',\n",
       "  'Explanation': \"The generated answer starts with a reformulated question rather than addressing the original inquiry about 'questions'. It fails to provide relevant content that directly relates to what was asked.\"},\n",
       " {'Relevance': 'NON_RELEVANT',\n",
       "  'Explanation': \"The generated answer discusses the factors influencing damages in medical negligence claims but does not provide a direct response to the specific question (question4), since the content does not clarify or relate to what 'question4' actually asks. Without knowing the specific question, the answer appears to stray from or lacks direct relevance to it.\"},\n",
       " {'Relevance': 'NON_RELEVANT',\n",
       "  'Explanation': \"The generated answer contradicts itself by stating that the doctor's experience level does not affect the claim while simultaneously implying that the claim could be based on negligence, which could be related to experience. This confusion demonstrates a lack of clear relevance to the question, which specifically inquires about the impact of the doctor's experience on the claim.\"},\n",
       " {'Relevance': 'NON_RELEVANT',\n",
       "  'Explanation': \"The generated answer discusses a report to the DWP about compensation details, but it does not address 'question3', which is unspecified and lacks context. Without knowing what 'question3' is, the relevance of the answer cannot be established, indicating it does not meet the requirement of addressing the question properly.\"},\n",
       " {'Relevance': 'NON_RELEVANT',\n",
       "  'Explanation': 'The question asks for the first action to take regarding health concerns related to sodium valproate, which typically would involve consulting a healthcare professional for medical advice or evaluation. Instead, the answer suggests seeking legal advice, which is not directly related to addressing health issues.'}]"
      ]
     },
     "execution_count": 78,
     "metadata": {},
     "output_type": "execute_result"
    }
   ],
   "source": [
    "df_evals_2[df_evals_2.Relevance == 'NON_RELEVANT'].to_dict(orient='records')"
   ]
  },
  {
   "cell_type": "code",
   "execution_count": null,
   "id": "2f3aaf55-ee46-49df-960f-dfa269443a91",
   "metadata": {},
   "outputs": [],
   "source": []
  }
 ],
 "metadata": {
  "kernelspec": {
   "display_name": "Python 3 (ipykernel)",
   "language": "python",
   "name": "python3"
  },
  "language_info": {
   "codemirror_mode": {
    "name": "ipython",
    "version": 3
   },
   "file_extension": ".py",
   "mimetype": "text/x-python",
   "name": "python",
   "nbconvert_exporter": "python",
   "pygments_lexer": "ipython3",
   "version": "3.12.1"
  }
 },
 "nbformat": 4,
 "nbformat_minor": 5
}
